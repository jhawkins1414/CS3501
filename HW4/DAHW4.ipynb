{
 "cells": [
  {
   "cell_type": "markdown",
   "id": "03089396",
   "metadata": {},
   "source": [
    "Jared Hawkins - jmh7ax"
   ]
  },
  {
   "cell_type": "markdown",
   "id": "5491fba4",
   "metadata": {},
   "source": [
    "In this exercise, you are going to use Principal Component Analysis to find the most relevant dimensions of variance in a set of hand shapes. Load the matrix all-hands.dat. Each row of this matrix is an entire set of hand points as a list of x, y coordinates: (x1, y1, x2, y2, . . . , x72, y72).\n",
    "Do the following:"
   ]
  },
  {
   "cell_type": "code",
   "execution_count": 10,
   "id": "1213cc60",
   "metadata": {},
   "outputs": [
    {
     "data": {
      "text/html": [
       "<div>\n",
       "<style scoped>\n",
       "    .dataframe tbody tr th:only-of-type {\n",
       "        vertical-align: middle;\n",
       "    }\n",
       "\n",
       "    .dataframe tbody tr th {\n",
       "        vertical-align: top;\n",
       "    }\n",
       "\n",
       "    .dataframe thead th {\n",
       "        text-align: right;\n",
       "    }\n",
       "</style>\n",
       "<table border=\"1\" class=\"dataframe\">\n",
       "  <thead>\n",
       "    <tr style=\"text-align: right;\">\n",
       "      <th></th>\n",
       "      <th>296</th>\n",
       "      <th>509</th>\n",
       "      <th>305</th>\n",
       "      <th>481</th>\n",
       "      <th>329</th>\n",
       "      <th>465</th>\n",
       "      <th>350</th>\n",
       "      <th>443</th>\n",
       "      <th>365</th>\n",
       "      <th>417</th>\n",
       "      <th>...</th>\n",
       "      <th>136.2</th>\n",
       "      <th>369</th>\n",
       "      <th>141</th>\n",
       "      <th>407</th>\n",
       "      <th>152</th>\n",
       "      <th>442</th>\n",
       "      <th>153</th>\n",
       "      <th>477</th>\n",
       "      <th>142.1</th>\n",
       "      <th>511</th>\n",
       "    </tr>\n",
       "  </thead>\n",
       "  <tbody>\n",
       "    <tr>\n",
       "      <th>0</th>\n",
       "      <td>284</td>\n",
       "      <td>511</td>\n",
       "      <td>299</td>\n",
       "      <td>488</td>\n",
       "      <td>321</td>\n",
       "      <td>471</td>\n",
       "      <td>335</td>\n",
       "      <td>449</td>\n",
       "      <td>348</td>\n",
       "      <td>426</td>\n",
       "      <td>...</td>\n",
       "      <td>127</td>\n",
       "      <td>369</td>\n",
       "      <td>131</td>\n",
       "      <td>406</td>\n",
       "      <td>140</td>\n",
       "      <td>442</td>\n",
       "      <td>141</td>\n",
       "      <td>477</td>\n",
       "      <td>126</td>\n",
       "      <td>510</td>\n",
       "    </tr>\n",
       "    <tr>\n",
       "      <th>1</th>\n",
       "      <td>293</td>\n",
       "      <td>510</td>\n",
       "      <td>310</td>\n",
       "      <td>490</td>\n",
       "      <td>328</td>\n",
       "      <td>472</td>\n",
       "      <td>340</td>\n",
       "      <td>450</td>\n",
       "      <td>352</td>\n",
       "      <td>427</td>\n",
       "      <td>...</td>\n",
       "      <td>126</td>\n",
       "      <td>375</td>\n",
       "      <td>130</td>\n",
       "      <td>410</td>\n",
       "      <td>137</td>\n",
       "      <td>444</td>\n",
       "      <td>145</td>\n",
       "      <td>476</td>\n",
       "      <td>133</td>\n",
       "      <td>507</td>\n",
       "    </tr>\n",
       "    <tr>\n",
       "      <th>2</th>\n",
       "      <td>310</td>\n",
       "      <td>506</td>\n",
       "      <td>323</td>\n",
       "      <td>483</td>\n",
       "      <td>345</td>\n",
       "      <td>466</td>\n",
       "      <td>359</td>\n",
       "      <td>443</td>\n",
       "      <td>372</td>\n",
       "      <td>419</td>\n",
       "      <td>...</td>\n",
       "      <td>143</td>\n",
       "      <td>375</td>\n",
       "      <td>148</td>\n",
       "      <td>411</td>\n",
       "      <td>158</td>\n",
       "      <td>445</td>\n",
       "      <td>165</td>\n",
       "      <td>479</td>\n",
       "      <td>156</td>\n",
       "      <td>511</td>\n",
       "    </tr>\n",
       "    <tr>\n",
       "      <th>3</th>\n",
       "      <td>334</td>\n",
       "      <td>509</td>\n",
       "      <td>351</td>\n",
       "      <td>490</td>\n",
       "      <td>369</td>\n",
       "      <td>472</td>\n",
       "      <td>381</td>\n",
       "      <td>449</td>\n",
       "      <td>392</td>\n",
       "      <td>427</td>\n",
       "      <td>...</td>\n",
       "      <td>160</td>\n",
       "      <td>377</td>\n",
       "      <td>165</td>\n",
       "      <td>412</td>\n",
       "      <td>174</td>\n",
       "      <td>444</td>\n",
       "      <td>185</td>\n",
       "      <td>476</td>\n",
       "      <td>181</td>\n",
       "      <td>509</td>\n",
       "    </tr>\n",
       "    <tr>\n",
       "      <th>4</th>\n",
       "      <td>316</td>\n",
       "      <td>511</td>\n",
       "      <td>330</td>\n",
       "      <td>489</td>\n",
       "      <td>351</td>\n",
       "      <td>471</td>\n",
       "      <td>365</td>\n",
       "      <td>450</td>\n",
       "      <td>378</td>\n",
       "      <td>427</td>\n",
       "      <td>...</td>\n",
       "      <td>143</td>\n",
       "      <td>380</td>\n",
       "      <td>149</td>\n",
       "      <td>415</td>\n",
       "      <td>160</td>\n",
       "      <td>448</td>\n",
       "      <td>171</td>\n",
       "      <td>481</td>\n",
       "      <td>162</td>\n",
       "      <td>511</td>\n",
       "    </tr>\n",
       "    <tr>\n",
       "      <th>5</th>\n",
       "      <td>284</td>\n",
       "      <td>508</td>\n",
       "      <td>295</td>\n",
       "      <td>481</td>\n",
       "      <td>311</td>\n",
       "      <td>457</td>\n",
       "      <td>332</td>\n",
       "      <td>437</td>\n",
       "      <td>349</td>\n",
       "      <td>412</td>\n",
       "      <td>...</td>\n",
       "      <td>119</td>\n",
       "      <td>370</td>\n",
       "      <td>126</td>\n",
       "      <td>405</td>\n",
       "      <td>140</td>\n",
       "      <td>439</td>\n",
       "      <td>143</td>\n",
       "      <td>473</td>\n",
       "      <td>133</td>\n",
       "      <td>508</td>\n",
       "    </tr>\n",
       "    <tr>\n",
       "      <th>6</th>\n",
       "      <td>351</td>\n",
       "      <td>507</td>\n",
       "      <td>365</td>\n",
       "      <td>484</td>\n",
       "      <td>383</td>\n",
       "      <td>465</td>\n",
       "      <td>394</td>\n",
       "      <td>441</td>\n",
       "      <td>403</td>\n",
       "      <td>417</td>\n",
       "      <td>...</td>\n",
       "      <td>174</td>\n",
       "      <td>383</td>\n",
       "      <td>179</td>\n",
       "      <td>417</td>\n",
       "      <td>188</td>\n",
       "      <td>449</td>\n",
       "      <td>203</td>\n",
       "      <td>480</td>\n",
       "      <td>197</td>\n",
       "      <td>511</td>\n",
       "    </tr>\n",
       "    <tr>\n",
       "      <th>7</th>\n",
       "      <td>301</td>\n",
       "      <td>509</td>\n",
       "      <td>314</td>\n",
       "      <td>489</td>\n",
       "      <td>333</td>\n",
       "      <td>473</td>\n",
       "      <td>350</td>\n",
       "      <td>455</td>\n",
       "      <td>366</td>\n",
       "      <td>436</td>\n",
       "      <td>...</td>\n",
       "      <td>136</td>\n",
       "      <td>370</td>\n",
       "      <td>141</td>\n",
       "      <td>406</td>\n",
       "      <td>150</td>\n",
       "      <td>441</td>\n",
       "      <td>154</td>\n",
       "      <td>477</td>\n",
       "      <td>140</td>\n",
       "      <td>510</td>\n",
       "    </tr>\n",
       "    <tr>\n",
       "      <th>8</th>\n",
       "      <td>317</td>\n",
       "      <td>502</td>\n",
       "      <td>330</td>\n",
       "      <td>481</td>\n",
       "      <td>351</td>\n",
       "      <td>467</td>\n",
       "      <td>367</td>\n",
       "      <td>446</td>\n",
       "      <td>381</td>\n",
       "      <td>426</td>\n",
       "      <td>...</td>\n",
       "      <td>141</td>\n",
       "      <td>365</td>\n",
       "      <td>146</td>\n",
       "      <td>398</td>\n",
       "      <td>154</td>\n",
       "      <td>430</td>\n",
       "      <td>168</td>\n",
       "      <td>460</td>\n",
       "      <td>161</td>\n",
       "      <td>490</td>\n",
       "    </tr>\n",
       "    <tr>\n",
       "      <th>9</th>\n",
       "      <td>267</td>\n",
       "      <td>507</td>\n",
       "      <td>285</td>\n",
       "      <td>491</td>\n",
       "      <td>302</td>\n",
       "      <td>473</td>\n",
       "      <td>314</td>\n",
       "      <td>453</td>\n",
       "      <td>325</td>\n",
       "      <td>433</td>\n",
       "      <td>...</td>\n",
       "      <td>97</td>\n",
       "      <td>380</td>\n",
       "      <td>98</td>\n",
       "      <td>415</td>\n",
       "      <td>105</td>\n",
       "      <td>448</td>\n",
       "      <td>115</td>\n",
       "      <td>480</td>\n",
       "      <td>103</td>\n",
       "      <td>511</td>\n",
       "    </tr>\n",
       "    <tr>\n",
       "      <th>10</th>\n",
       "      <td>295</td>\n",
       "      <td>501</td>\n",
       "      <td>314</td>\n",
       "      <td>486</td>\n",
       "      <td>332</td>\n",
       "      <td>470</td>\n",
       "      <td>346</td>\n",
       "      <td>451</td>\n",
       "      <td>359</td>\n",
       "      <td>431</td>\n",
       "      <td>...</td>\n",
       "      <td>133</td>\n",
       "      <td>349</td>\n",
       "      <td>132</td>\n",
       "      <td>384</td>\n",
       "      <td>136</td>\n",
       "      <td>418</td>\n",
       "      <td>144</td>\n",
       "      <td>450</td>\n",
       "      <td>139</td>\n",
       "      <td>481</td>\n",
       "    </tr>\n",
       "    <tr>\n",
       "      <th>11</th>\n",
       "      <td>292</td>\n",
       "      <td>489</td>\n",
       "      <td>307</td>\n",
       "      <td>468</td>\n",
       "      <td>327</td>\n",
       "      <td>454</td>\n",
       "      <td>342</td>\n",
       "      <td>434</td>\n",
       "      <td>357</td>\n",
       "      <td>414</td>\n",
       "      <td>...</td>\n",
       "      <td>130</td>\n",
       "      <td>347</td>\n",
       "      <td>130</td>\n",
       "      <td>384</td>\n",
       "      <td>137</td>\n",
       "      <td>418</td>\n",
       "      <td>145</td>\n",
       "      <td>451</td>\n",
       "      <td>134</td>\n",
       "      <td>483</td>\n",
       "    </tr>\n",
       "    <tr>\n",
       "      <th>12</th>\n",
       "      <td>247</td>\n",
       "      <td>511</td>\n",
       "      <td>266</td>\n",
       "      <td>496</td>\n",
       "      <td>284</td>\n",
       "      <td>480</td>\n",
       "      <td>298</td>\n",
       "      <td>460</td>\n",
       "      <td>311</td>\n",
       "      <td>440</td>\n",
       "      <td>...</td>\n",
       "      <td>86</td>\n",
       "      <td>369</td>\n",
       "      <td>86</td>\n",
       "      <td>402</td>\n",
       "      <td>91</td>\n",
       "      <td>436</td>\n",
       "      <td>98</td>\n",
       "      <td>468</td>\n",
       "      <td>83</td>\n",
       "      <td>498</td>\n",
       "    </tr>\n",
       "    <tr>\n",
       "      <th>13</th>\n",
       "      <td>304</td>\n",
       "      <td>504</td>\n",
       "      <td>321</td>\n",
       "      <td>485</td>\n",
       "      <td>341</td>\n",
       "      <td>472</td>\n",
       "      <td>356</td>\n",
       "      <td>451</td>\n",
       "      <td>369</td>\n",
       "      <td>430</td>\n",
       "      <td>...</td>\n",
       "      <td>140</td>\n",
       "      <td>360</td>\n",
       "      <td>142</td>\n",
       "      <td>394</td>\n",
       "      <td>150</td>\n",
       "      <td>427</td>\n",
       "      <td>158</td>\n",
       "      <td>460</td>\n",
       "      <td>147</td>\n",
       "      <td>491</td>\n",
       "    </tr>\n",
       "    <tr>\n",
       "      <th>14</th>\n",
       "      <td>282</td>\n",
       "      <td>500</td>\n",
       "      <td>296</td>\n",
       "      <td>481</td>\n",
       "      <td>316</td>\n",
       "      <td>467</td>\n",
       "      <td>333</td>\n",
       "      <td>448</td>\n",
       "      <td>348</td>\n",
       "      <td>430</td>\n",
       "      <td>...</td>\n",
       "      <td>122</td>\n",
       "      <td>347</td>\n",
       "      <td>122</td>\n",
       "      <td>382</td>\n",
       "      <td>126</td>\n",
       "      <td>416</td>\n",
       "      <td>135</td>\n",
       "      <td>448</td>\n",
       "      <td>129</td>\n",
       "      <td>481</td>\n",
       "    </tr>\n",
       "    <tr>\n",
       "      <th>15</th>\n",
       "      <td>300</td>\n",
       "      <td>507</td>\n",
       "      <td>316</td>\n",
       "      <td>491</td>\n",
       "      <td>334</td>\n",
       "      <td>478</td>\n",
       "      <td>349</td>\n",
       "      <td>461</td>\n",
       "      <td>363</td>\n",
       "      <td>443</td>\n",
       "      <td>...</td>\n",
       "      <td>136</td>\n",
       "      <td>355</td>\n",
       "      <td>136</td>\n",
       "      <td>389</td>\n",
       "      <td>140</td>\n",
       "      <td>422</td>\n",
       "      <td>149</td>\n",
       "      <td>453</td>\n",
       "      <td>144</td>\n",
       "      <td>483</td>\n",
       "    </tr>\n",
       "    <tr>\n",
       "      <th>16</th>\n",
       "      <td>307</td>\n",
       "      <td>500</td>\n",
       "      <td>324</td>\n",
       "      <td>480</td>\n",
       "      <td>343</td>\n",
       "      <td>463</td>\n",
       "      <td>356</td>\n",
       "      <td>441</td>\n",
       "      <td>369</td>\n",
       "      <td>419</td>\n",
       "      <td>...</td>\n",
       "      <td>141</td>\n",
       "      <td>348</td>\n",
       "      <td>142</td>\n",
       "      <td>384</td>\n",
       "      <td>149</td>\n",
       "      <td>417</td>\n",
       "      <td>159</td>\n",
       "      <td>449</td>\n",
       "      <td>154</td>\n",
       "      <td>480</td>\n",
       "    </tr>\n",
       "  </tbody>\n",
       "</table>\n",
       "<p>17 rows × 144 columns</p>\n",
       "</div>"
      ],
      "text/plain": [
       "    296  509  305  481  329  465  350  443  365  417  ...  136.2  369  141  \\\n",
       "0   284  511  299  488  321  471  335  449  348  426  ...    127  369  131   \n",
       "1   293  510  310  490  328  472  340  450  352  427  ...    126  375  130   \n",
       "2   310  506  323  483  345  466  359  443  372  419  ...    143  375  148   \n",
       "3   334  509  351  490  369  472  381  449  392  427  ...    160  377  165   \n",
       "4   316  511  330  489  351  471  365  450  378  427  ...    143  380  149   \n",
       "5   284  508  295  481  311  457  332  437  349  412  ...    119  370  126   \n",
       "6   351  507  365  484  383  465  394  441  403  417  ...    174  383  179   \n",
       "7   301  509  314  489  333  473  350  455  366  436  ...    136  370  141   \n",
       "8   317  502  330  481  351  467  367  446  381  426  ...    141  365  146   \n",
       "9   267  507  285  491  302  473  314  453  325  433  ...     97  380   98   \n",
       "10  295  501  314  486  332  470  346  451  359  431  ...    133  349  132   \n",
       "11  292  489  307  468  327  454  342  434  357  414  ...    130  347  130   \n",
       "12  247  511  266  496  284  480  298  460  311  440  ...     86  369   86   \n",
       "13  304  504  321  485  341  472  356  451  369  430  ...    140  360  142   \n",
       "14  282  500  296  481  316  467  333  448  348  430  ...    122  347  122   \n",
       "15  300  507  316  491  334  478  349  461  363  443  ...    136  355  136   \n",
       "16  307  500  324  480  343  463  356  441  369  419  ...    141  348  142   \n",
       "\n",
       "    407  152  442  153  477  142.1  511  \n",
       "0   406  140  442  141  477    126  510  \n",
       "1   410  137  444  145  476    133  507  \n",
       "2   411  158  445  165  479    156  511  \n",
       "3   412  174  444  185  476    181  509  \n",
       "4   415  160  448  171  481    162  511  \n",
       "5   405  140  439  143  473    133  508  \n",
       "6   417  188  449  203  480    197  511  \n",
       "7   406  150  441  154  477    140  510  \n",
       "8   398  154  430  168  460    161  490  \n",
       "9   415  105  448  115  480    103  511  \n",
       "10  384  136  418  144  450    139  481  \n",
       "11  384  137  418  145  451    134  483  \n",
       "12  402   91  436   98  468     83  498  \n",
       "13  394  150  427  158  460    147  491  \n",
       "14  382  126  416  135  448    129  481  \n",
       "15  389  140  422  149  453    144  483  \n",
       "16  384  149  417  159  449    154  480  \n",
       "\n",
       "[17 rows x 144 columns]"
      ]
     },
     "metadata": {},
     "output_type": "display_data"
    }
   ],
   "source": [
    "import pandas as pd\n",
    "import numpy as np\n",
    "import matplotlib.pyplot as plt\n",
    "\n",
    "\n",
    "all_hands = pd.read_csv(\"all-hands.dat\")\n",
    "display(all_hands)\n",
    "df = pd.DataFrame(all_hands)"
   ]
  },
  {
   "cell_type": "markdown",
   "id": "42f57ae7",
   "metadata": {},
   "source": [
    "(a) Compute the mean hand (this should be a 72 × 2 = 144 vector, consisting of the means of each column in your matrix). Plot this mean as a hand shape."
   ]
  },
  {
   "cell_type": "code",
   "execution_count": 2,
   "id": "bcf06a47",
   "metadata": {},
   "outputs": [
    {
     "data": {
      "image/png": "[encoded data removed]",
      "text/plain": [
       "<Figure size 432x288 with 1 Axes>"
      ]
     },
     "metadata": {
      "needs_background": "light"
     },
     "output_type": "display_data"
    }
   ],
   "source": [
    "mean_hand = all_hands.apply(np.mean, axis=0)\n",
    "#display(mean_hand)\n",
    "\n",
    "x = [mean_hand.values[0::2]]\n",
    "y = [mean_hand.values[1::2]]\n",
    "#display(x)\n",
    "#display(y)\n",
    "\n",
    "hand = plt.plot(x, y, color=\"blue\", marker='.')"
   ]
  },
  {
   "cell_type": "markdown",
   "id": "a326bf6a",
   "metadata": {},
   "source": [
    "(b) Compute the covariance matrix Σ for this data. Use the formulas we covered in class, not a covariance function! What is the total variance of the data?"
   ]
  },
  {
   "cell_type": "code",
   "execution_count": 8,
   "id": "6bf67aba",
   "metadata": {},
   "outputs": [
    {
     "name": "stdout",
     "output_type": "stream",
     "text": [
      "[[582.80882353  -3.77573529 564.72058824 ...  50.19117647 638.34558824\n",
      "   48.27941176]\n",
      " [ -3.77573529  32.25735294  -3.76838235 ...  53.90073529  -7.76838235\n",
      "   53.89338235]\n",
      " [564.72058824  -3.76838235 552.01470588 ...  43.02941176 615.82720588\n",
      "   39.48529412]\n",
      " ...\n",
      " [ 50.19117647  53.90073529  43.02941176 ... 162.55882353  40.46691176\n",
      "  165.47058824]\n",
      " [638.34558824  -7.76838235 615.82720588 ...  40.46691176 708.63970588\n",
      "   40.42279412]\n",
      " [ 48.27941176  53.89338235  39.48529412 ... 165.47058824  40.42279412\n",
      "  170.38970588]]\n"
     ]
    }
   ],
   "source": [
    "centered = np.matrix(all_hands).copy().astype(\"float64\")\n",
    "\n",
    "means = np.array(sum(np.matrix(all_hands))/len(np.matrix(all_hands)))[0]\n",
    "\n",
    "for row in range(len(np.matrix(all_hands))):\n",
    "    centered[row] = centered[row] - means\n",
    "\n",
    "covariance_matrix = np.matmul(centered.T,(centered))/(len(all_hands)-1)\n",
    "\n",
    "print(covariance_matrix)\n",
    "\n"
   ]
  },
  {
   "cell_type": "markdown",
   "id": "b7080b66",
   "metadata": {},
   "source": [
    "(c) What is the covariance between the x1 coordinate and the x2 coordinate? What is the correlation between these two coordinates? These are adjacent points on the hand, can you explain why the correlation comes out to this value?"
   ]
  },
  {
   "cell_type": "code",
   "execution_count": 4,
   "id": "5e1acd93",
   "metadata": {},
   "outputs": [
    {
     "name": "stdout",
     "output_type": "stream",
     "text": [
      "564.7205882352939\n"
     ]
    }
   ],
   "source": [
    "covariancex1x2 = covariance_matrix[0,2]\n",
    "print(covariancex1x2)"
   ]
  },
  {
   "cell_type": "code",
   "execution_count": 28,
   "id": "9d36d08f",
   "metadata": {},
   "outputs": [
    {
     "name": "stdout",
     "output_type": "stream",
     "text": [
      "[284 511 299 488 321 471 335 449 348 426 363 403 379 381 384 352 392 326\n",
      " 404 300 405 271 411 243 404 217 382 223 369 243 360 266 356 289 349 312\n",
      " 335 331 330 285 326 238 331 191 336 144 340  96 325  56 303  72 298 104\n",
      " 294 137 286 168 282 200 270 225 266 194 270 160 275 126 280  91 284  57\n",
      " 269  30 246  50 240  84 234 118 222 150 222 185 217 219 209 193 209 163\n",
      " 213 135 219 107 224  79 212  57 187  78 178 112 171 148 163 183 167 219\n",
      " 164 255 156 234 152 210 147 186 146 161 144 136 130 119 113 147 113 184\n",
      " 115 222 122 257 122 295 125 333 127 369 131 406 140 442 141 477 126 510]\n",
      "0.04697591184807894\n"
     ]
    }
   ],
   "source": [
    "print(all_hands.values[0])\n",
    "print(covariancex1x2 / (np.std(all_hands.values[0]) * np.std(all_hands.values[2])))"
   ]
  },
  {
   "cell_type": "markdown",
   "id": "3a0a7cc8",
   "metadata": {},
   "source": [
    "The correlation is very low. I can not explain how the correlation came out to this value. If the points were adjacent, they should have high correlation."
   ]
  },
  {
   "cell_type": "markdown",
   "id": "9f025b59",
   "metadata": {},
   "source": [
    "(d) Compute the PCA of the hands. (Use the Python function numpy.linalg.eigh to get eigenvalues and eigenvectors of Σ)."
   ]
  },
  {
   "cell_type": "code",
   "execution_count": 224,
   "id": "b75919dc",
   "metadata": {},
   "outputs": [
    {
     "name": "stdout",
     "output_type": "stream",
     "text": [
      "[ 2.64242307e+04+0.00000000e+00j  8.47523878e+03+0.00000000e+00j\n",
      "  5.65764544e+03+0.00000000e+00j  4.24397101e+03+0.00000000e+00j\n",
      "  2.63458872e+03+0.00000000e+00j  1.38598208e+03+0.00000000e+00j\n",
      "  4.33193429e+02+0.00000000e+00j  2.29431554e+02+0.00000000e+00j\n",
      "  1.34915924e+02+0.00000000e+00j  6.04636001e+01+0.00000000e+00j\n",
      "  4.15937583e+01+0.00000000e+00j  3.30193427e+01+0.00000000e+00j\n",
      "  2.84902079e+01+0.00000000e+00j  8.57811657e+00+0.00000000e+00j\n",
      "  1.81185733e+01+0.00000000e+00j  1.68623377e+01+0.00000000e+00j\n",
      " -1.84991977e-12+0.00000000e+00j -5.29843334e-13+1.58057281e-12j\n",
      " -5.29843334e-13-1.58057281e-12j  1.24084956e-12+1.00853756e-12j\n",
      "  1.24084956e-12-1.00853756e-12j -1.22164907e-12+5.10884348e-13j\n",
      " -1.22164907e-12-5.10884348e-13j  1.32097677e-12+0.00000000e+00j\n",
      "  4.83964777e-13+1.14133550e-12j  4.83964777e-13-1.14133550e-12j\n",
      "  1.14630638e-12+4.81623096e-13j  1.14630638e-12-4.81623096e-13j\n",
      " -8.42920975e-13+8.44455524e-13j -8.42920975e-13-8.44455524e-13j\n",
      " -1.08676024e-12+1.99372070e-13j -1.08676024e-12-1.99372070e-13j\n",
      "  1.94461916e-13+1.01105857e-12j  1.94461916e-13-1.01105857e-12j\n",
      " -8.00152546e-13+2.24052557e-13j -8.00152546e-13-2.24052557e-13j\n",
      "  7.80716997e-13+1.23932931e-13j  7.80716997e-13-1.23932931e-13j\n",
      "  5.63902159e-13+4.99428811e-13j  5.63902159e-13-4.99428811e-13j\n",
      "  7.35269770e-13+0.00000000e+00j -6.58950134e-13+2.48226448e-13j\n",
      " -6.58950134e-13-2.48226448e-13j -6.93759508e-13+0.00000000e+00j\n",
      " -4.94752714e-14+6.66203498e-13j -4.94752714e-14-6.66203498e-13j\n",
      "  3.79555420e-14+6.51297835e-13j  3.79555420e-14-6.51297835e-13j\n",
      "  3.48717094e-13+5.48451604e-13j  3.48717094e-13-5.48451604e-13j\n",
      " -4.76046880e-13+3.25595414e-13j -4.76046880e-13-3.25595414e-13j\n",
      " -1.96668458e-13+5.28861769e-13j -1.96668458e-13-5.28861769e-13j\n",
      "  5.72130069e-13+1.06066545e-13j  5.72130069e-13-1.06066545e-13j\n",
      " -4.98095235e-13+0.00000000e+00j  4.17481953e-13+3.13903005e-13j\n",
      "  4.17481953e-13-3.13903005e-13j -5.15744254e-13+6.84500318e-14j\n",
      " -5.15744254e-13-6.84500318e-14j -3.32545037e-13+3.15893902e-13j\n",
      " -3.32545037e-13-3.15893902e-13j  1.47029779e-13+4.02738834e-13j\n",
      "  1.47029779e-13-4.02738834e-13j  3.14858505e-13+2.86239403e-13j\n",
      "  3.14858505e-13-2.86239403e-13j -2.88627043e-14+3.86618953e-13j\n",
      " -2.88627043e-14-3.86618953e-13j -3.84228208e-13+0.00000000e+00j\n",
      "  3.51555282e-13+1.34363965e-13j  3.51555282e-13-1.34363965e-13j\n",
      "  2.78302110e-13+2.04841707e-13j  2.78302110e-13-2.04841707e-13j\n",
      " -2.79098789e-13+1.76624996e-13j -2.79098789e-13-1.76624996e-13j\n",
      " -2.99278641e-13+9.01978183e-14j -2.99278641e-13-9.01978183e-14j\n",
      "  3.21864529e-13+6.03422909e-14j  3.21864529e-13-6.03422909e-14j\n",
      " -2.79845039e-14+2.88046588e-13j -2.79845039e-14-2.88046588e-13j\n",
      "  2.18234893e-13+2.11380681e-13j  2.18234893e-13-2.11380681e-13j\n",
      " -8.07310102e-14+2.59381465e-13j -8.07310102e-14-2.59381465e-13j\n",
      " -1.84825968e-13+1.91261035e-13j -1.84825968e-13-1.91261035e-13j\n",
      " -2.43856563e-13+3.07629647e-14j -2.43856563e-13-3.07629647e-14j\n",
      " -1.96134913e-13+1.32962102e-13j -1.96134913e-13-1.32962102e-13j\n",
      "  1.95916916e-13+1.29528662e-13j  1.95916916e-13-1.29528662e-13j\n",
      "  2.33747572e-13+3.41119805e-14j  2.33747572e-13-3.41119805e-14j\n",
      "  1.17648320e-13+1.70817411e-13j  1.17648320e-13-1.70817411e-13j\n",
      "  2.01204374e-13+5.01057503e-14j  2.01204374e-13-5.01057503e-14j\n",
      " -1.75084691e-13+7.82965922e-14j -1.75084691e-13-7.82965922e-14j\n",
      " -1.90377887e-13+0.00000000e+00j  1.91865012e-13+0.00000000e+00j\n",
      " -1.11272946e-13+1.26147024e-13j -1.11272946e-13-1.26147024e-13j\n",
      " -1.61070404e-13+0.00000000e+00j  1.55781836e-13+6.16298776e-14j\n",
      "  1.55781836e-13-6.16298776e-14j  1.09865250e-13+1.09933114e-13j\n",
      "  1.09865250e-13-1.09933114e-13j  1.57689483e-13+0.00000000e+00j\n",
      "  4.87380358e-14+1.30043652e-13j  4.87380358e-14-1.30043652e-13j\n",
      " -1.01496584e-13+7.60837276e-14j -1.01496584e-13-7.60837276e-14j\n",
      "  1.48987432e-13+0.00000000e+00j -1.29260961e-13+5.89052857e-15j\n",
      " -1.29260961e-13-5.89052857e-15j  1.17626117e-13+4.94939366e-14j\n",
      "  1.17626117e-13-4.94939366e-14j  9.56945554e-14+6.90455327e-14j\n",
      "  9.56945554e-14-6.90455327e-14j -7.35715380e-14+8.66457322e-14j\n",
      " -7.35715380e-14-8.66457322e-14j -1.05769315e-13+0.00000000e+00j\n",
      "  4.99185477e-14+9.42778760e-14j  4.99185477e-14-9.42778760e-14j\n",
      " -2.02630982e-14+8.58759850e-14j -2.02630982e-14-8.58759850e-14j\n",
      " -3.22241131e-14+7.15931170e-14j -3.22241131e-14-7.15931170e-14j\n",
      "  1.92513360e-14+7.31959075e-14j  1.92513360e-14-7.31959075e-14j\n",
      " -6.69195875e-14+4.46328143e-14j -6.69195875e-14-4.46328143e-14j\n",
      " -4.86900407e-14+9.66923174e-15j -4.86900407e-14-9.66923174e-15j\n",
      "  6.48319974e-14+2.41871653e-14j  6.48319974e-14-2.41871653e-14j\n",
      "  2.60196434e-14+4.62643751e-14j  2.60196434e-14-4.62643751e-14j\n",
      "  5.33604148e-14+0.00000000e+00j  3.41093562e-14+0.00000000e+00j]\n",
      "[[-1.32297366e-01+0.j         -2.57403572e-02+0.j\n",
      "  -1.29102383e-01+0.j         ... -2.39169358e-03-0.05117693j\n",
      "   4.33776146e-02+0.j          4.87102376e-02+0.j        ]\n",
      " [ 4.15474018e-03+0.j          2.55910469e-02+0.j\n",
      "  -4.21856199e-02+0.j         ... -2.09326564e-03+0.02000927j\n",
      "  -4.23665872e-03+0.j          2.36120216e-03+0.j        ]\n",
      " [-1.30086212e-01+0.j         -1.01499284e-02+0.j\n",
      "  -1.19244517e-01+0.j         ... -5.50123132e-03+0.0140379j\n",
      "   7.68648854e-03+0.j          1.02926757e-04+0.j        ]\n",
      " ...\n",
      " [ 8.91476661e-04+0.j          6.09377869e-02+0.j\n",
      "  -1.10976006e-01+0.j         ... -5.96874348e-02+0.01739204j\n",
      "   6.37313557e-02+0.j          5.57329872e-02+0.j        ]\n",
      " [-1.46278493e-01+0.j         -4.08471226e-02+0.j\n",
      "  -1.28738602e-01+0.j         ...  1.02382516e-02+0.00130864j\n",
      "   5.35037276e-03+0.j         -7.01507488e-04+0.j        ]\n",
      " [ 2.38090695e-04+0.j          5.87449506e-02+0.j\n",
      "  -1.06326064e-01+0.j         ... -3.89490870e-02-0.06823802j\n",
      "  -2.17781483e-01+0.j         -1.09561651e-01+0.j        ]]\n"
     ]
    }
   ],
   "source": [
    "eigenvalues, eigenvectors = np.linalg.eig(covariance_matrix.tolist())\n",
    "print(eigenvalues)\n",
    "print(eigenvectors)"
   ]
  },
  {
   "cell_type": "markdown",
   "id": "daed9c06",
   "metadata": {},
   "source": [
    "(e) Plot a scree plot of the eigenvalues. How many eigenvalues are nonzero? What does this tell you about the dimensionality of your data?"
   ]
  },
  {
   "cell_type": "code",
   "execution_count": 225,
   "id": "a9c5a42a",
   "metadata": {},
   "outputs": [
    {
     "name": "stdout",
     "output_type": "stream",
     "text": [
      "16\n"
     ]
    },
    {
     "data": {
      "image/png": "[encoded data removed]",
      "text/plain": [
       "<Figure size 432x288 with 1 Axes>"
      ]
     },
     "metadata": {
      "needs_background": "light"
     },
     "output_type": "display_data"
    }
   ],
   "source": [
    "prob_var = []\n",
    "count = 0\n",
    "for i in range(len(eigenvalues)):\n",
    "    prob_var.append(eigenvalues[i]/np.sum(eigenvalues))\n",
    "    if(eigenvalues[i]/np.sum(eigenvalues) > .0000000000000001):\n",
    "        count = count + 1\n",
    "    \n",
    "plt.plot(prob_var[:20], marker = \".\")\n",
    "print(count)"
   ]
  },
  {
   "cell_type": "markdown",
   "id": "89001bac",
   "metadata": {},
   "source": [
    "There were 16 nonzero eigen values, which means 16 dimensions should account for all of the variance in the data"
   ]
  },
  {
   "cell_type": "markdown",
   "id": "116eac3d",
   "metadata": {},
   "source": [
    "(f) Plot a sequence (as a strip of 5 side-by-side figures) of hand shapes along the first\n",
    "√√√√\n",
    "principal component at s = −3 λ1, −1.5 λ1, 0, 1.5 λ1, 3 λ1, where λ1 is the first\n",
    "(largest) eigenvalue. So, you will plot hands corresponding to: μ+sv1,\n",
    "where v1 is the first eigenvector. What does this dimension in the data correspond to, in terms of hand shape changes? Repeat this process for the second and third principal component."
   ]
  },
  {
   "cell_type": "code",
   "execution_count": 226,
   "id": "b0fb908b",
   "metadata": {},
   "outputs": [],
   "source": [
    "v1 = [-3 * np.sqrt(eigenvalues[1]), -1.5 * np.sqrt(eigenvalues[1]), 0, 1.5 * np.sqrt(eigenvalues[1]), 3 * np.sqrt(eigenvalues[1])]\n",
    "v2 = [-3 * np.sqrt(eigenvalues[2]), -1.5 * np.sqrt(eigenvalues[2]), 0, 1.5 * np.sqrt(eigenvalues[2]), 3 * np.sqrt(eigenvalues[2])]\n",
    "v3 = [-3 *  np.sqrt(eigenvalues[3]), -1.5 *  np.sqrt(eigenvalues[3]), 0, 1.5 *  np.sqrt(eigenvalues[3]), 3 *  np.sqrt(eigenvalues[3])]"
   ]
  },
  {
   "cell_type": "code",
   "execution_count": 227,
   "id": "0c838bba",
   "metadata": {},
   "outputs": [
    {
     "data": {
      "image/png": "[encoded data removed]",
      "text/plain": [
       "<Figure size 432x288 with 1 Axes>"
      ]
     },
     "metadata": {
      "needs_background": "light"
     },
     "output_type": "display_data"
    }
   ],
   "source": [
    "for i in range(len(v1)):\n",
    "    vector1 = all_hands.apply(np.mean, axis=0) + v1[i] * eigenvectors[0]\n",
    "    xv1 = [vector1.values[0::2]]\n",
    "    yv1 = [vector1.values[1::2]]\n",
    "    plt.plot(xv1, yv1, color = \"blue\", marker='.')"
   ]
  },
  {
   "cell_type": "code",
   "execution_count": 228,
   "id": "178c60b7",
   "metadata": {},
   "outputs": [
    {
     "data": {
      "image/png": "[encoded data removed]",
      "text/plain": [
       "<Figure size 432x288 with 1 Axes>"
      ]
     },
     "metadata": {
      "needs_background": "light"
     },
     "output_type": "display_data"
    }
   ],
   "source": [
    "for i in range(len(v2)):\n",
    "    vector2 = all_hands.apply(np.mean, axis=0) + v2[i] * eigenvectors[1]\n",
    "    xv1 = [vector2.values[0::2]]\n",
    "    yv1 = [vector2.values[1::2]]\n",
    "    plt.plot(xv1, yv1, color = \"blue\", marker='.')"
   ]
  },
  {
   "cell_type": "code",
   "execution_count": 229,
   "id": "bd4a7d33",
   "metadata": {},
   "outputs": [
    {
     "data": {
      "image/png": "[encoded data removed]",
      "text/plain": [
       "<Figure size 432x288 with 1 Axes>"
      ]
     },
     "metadata": {
      "needs_background": "light"
     },
     "output_type": "display_data"
    }
   ],
   "source": [
    "for i in range(len(v3)):\n",
    "    vector3 = all_hands.apply(np.mean, axis=0) + v3[i] * eigenvectors[0]\n",
    "    xv3 = [vector3.values[0::2]]\n",
    "    yv3 = [vector3.values[1::2]]\n",
    "    plt.plot(xv3, yv3, color = \"blue\", marker=\".\")"
   ]
  },
  {
   "cell_type": "markdown",
   "id": "55aa7687",
   "metadata": {},
   "source": [
    "(g) How many dimensions do you need to represent 95% of the variance in the hand data?"
   ]
  },
  {
   "cell_type": "code",
   "execution_count": 230,
   "id": "0e0e6307",
   "metadata": {},
   "outputs": [
    {
     "name": "stdout",
     "output_type": "stream",
     "text": [
      "5\n"
     ]
    }
   ],
   "source": [
    "count1 = 0\n",
    "total = 0\n",
    "for i in range(len(eigenvalues)):\n",
    "    total = total + eigenvalues[i] / sum(eigenvalues)\n",
    "    count1 = count1 + 1\n",
    "    if total >= .95:\n",
    "        break;\n",
    "\n",
    "print(count1)"
   ]
  },
  {
   "cell_type": "markdown",
   "id": "b5408a80",
   "metadata": {},
   "source": [
    "We need 5 dimensions to represent 95% of the variance in the hand data"
   ]
  },
  {
   "cell_type": "markdown",
   "id": "f3db2640",
   "metadata": {},
   "source": [
    "(h) Using your PCA results with the reduced number of dimensions you found in the previ- ous answer, project the first hand (row 1 of the matrix) onto this reduced dimensional subspace. What is the vector of weights needed to represent this hand? Plot the recon- structed hand shape on top of the original hand shape (again, use two different colors). Is the reconstructed hand similar to the original?"
   ]
  },
  {
   "cell_type": "code",
   "execution_count": 234,
   "id": "6f9a78b1",
   "metadata": {},
   "outputs": [
    {
     "name": "stdout",
     "output_type": "stream",
     "text": [
      "[[-6.24548667e-01-4.94487646e-01j -1.21514935e-01-9.62096905e-02j\n",
      "  -6.09465811e-01-4.82545764e-01j -1.07415378e-01-8.50463384e-02j\n",
      "  -3.54846560e-01-2.80950468e-01j -2.00006329e-02-1.58355407e-02j\n",
      "   2.60283174e-01+2.06079719e-01j -1.29729470e-01-1.02713565e-01j\n",
      "   1.14287394e-01+9.04872708e-02j -2.76938020e-01-2.19266227e-01j\n",
      "   5.00570120e-01+3.96327385e-01j -4.10002380e-01-3.24620198e-01j\n",
      "   1.87992735e-01+1.48843620e-01j  1.05106157e+00+8.32180080e-01j\n",
      "  -6.36477582e-01-5.03932388e-01j  3.80863807e-02+3.01549675e-02j\n",
      "  -5.28462874e-01-4.18411529e-01j -7.03948785e-02+2.63645425e-01j\n",
      "   2.40472152e-01-1.28986406e-01j -2.67567873e-02+6.84592323e-01j\n",
      "   6.60206493e-01-1.83057263e-01j -2.34757884e-01-5.39423393e-01j\n",
      "  -5.78886643e-01-1.04781275e-01j  6.21297626e-01+4.91913628e-01j\n",
      "  -1.16169790e-01-5.31243337e-01j -5.43726033e-01+8.76951023e-03j\n",
      "   6.35739954e-01+3.48223600e-01j  4.84750320e-01+5.38926796e-01j\n",
      "   1.34050884e-01+3.29762758e-01j  3.51717383e-01+5.48452301e-02j\n",
      "   6.27035609e-01+5.48397110e-01j  6.77591465e-01+4.84543963e-01j\n",
      "   9.25459440e-02-3.84664554e-01j -3.53184867e-01+1.78303169e-01j\n",
      "  -3.68456071e-01-5.37570707e-01j -6.07747507e-01-2.35340412e-01j\n",
      "   1.12758136e-01+7.23246065e-02j  9.62581479e-02+9.31644507e-02j\n",
      "   3.62009836e-01-2.04866858e-01j -1.16377490e-01+3.99346755e-01j\n",
      "   1.71736176e-01+1.35972458e-01j -3.51228361e-01+3.24569165e-01j\n",
      "   2.35361683e-01-4.16306837e-01j  8.93083317e-02+7.07100487e-02j\n",
      "  -8.31231140e-01+9.20867238e-02j -1.01013887e-01-8.30193572e-01j\n",
      "  -1.98042043e-01-5.86842691e-01j -6.16620982e-01-5.81683747e-02j\n",
      "   5.64191940e-02+3.85876481e-01j  3.88530182e-01-3.35869304e-02j\n",
      "   1.70961533e-01-2.27817772e-01j -1.82534225e-01+2.18655070e-01j\n",
      "   7.58687464e-02-7.40207424e-01j -7.03075065e-01+2.43615577e-01j\n",
      "   3.61826166e-01+1.28202605e-01j  2.07771270e-01+3.22777295e-01j\n",
      "   8.44984817e-03+6.69018404e-03j -2.47162860e-01+6.35004366e-02j\n",
      "   5.12001966e-03-2.55138335e-01j  1.89492062e-01-1.51349825e-02j\n",
      "   2.87291582e-02+1.87912066e-01j -6.98424037e-02+3.90479143e-01j\n",
      "   3.64051597e-01-1.57538431e-01j -8.31790571e-02+2.49168116e-01j\n",
      "   2.23448665e-01-1.38109376e-01j  2.99319407e-02-1.43752336e-01j\n",
      "  -1.33055355e-01+6.21041684e-02j -3.45918690e-01+1.05842383e-01j\n",
      "   2.36832571e-02-3.60972926e-01j -1.31099299e-01-1.03798130e-01j\n",
      "  -3.90093227e-01-1.91583654e-01j -2.75945934e-01-3.35754172e-01j\n",
      "   8.71159056e-03+2.28110499e-01j  2.24027830e-01-4.38386013e-02j\n",
      "   4.09031269e-01+3.74870123e-01j  4.58690074e-01+3.12149971e-01j\n",
      "  -1.91002712e-01+8.65755858e-02j  4.04605915e-02-2.05767609e-01j\n",
      "   2.74876317e-01+2.29143988e-01j  2.86079612e-01+2.14993982e-01j\n",
      "  -3.33765874e-01+4.36138810e-01j  3.47962319e-01-4.24898746e-01j\n",
      "   3.27420572e-02+1.04133044e-02j  1.76452280e-02+2.94809285e-02j\n",
      "  -6.17050509e-01+2.66194133e-01j  1.17575473e-01-6.61654484e-01j\n",
      "   5.35126606e-01+1.91464672e-01j  3.09094053e-01+4.76948709e-01j\n",
      "   5.69457725e-01+3.33865450e-01j  4.55572843e-01+4.77704535e-01j\n",
      "   3.46173863e-01-5.33339210e-01j -4.39725847e-01+4.59269241e-01j\n",
      "   2.33481487e-01+9.50581360e-02j  1.46074011e-01+2.05455682e-01j\n",
      "  -8.34500587e-02-2.50918787e-01j -2.63369659e-01-2.36764126e-02j\n",
      "   4.98812287e-02+2.09265018e-01j  2.15127115e-01+5.55863959e-04j\n",
      "  -1.39253140e-02+2.54646073e-01j  2.44664193e-01-7.19581074e-02j\n",
      "   3.39008127e-01-2.08037537e-01j -1.24739175e-01+3.77685405e-01j\n",
      "   5.72876902e-01+4.53576423e-01j -1.92220776e-03-1.52191181e-03j\n",
      "   2.22232507e-01-1.71524768e-01j -1.15982631e-01+2.55648318e-01j\n",
      "  -1.16572893e-02-9.22968193e-03j  4.64406573e-01-9.40888460e-02j\n",
      "   1.49325929e-02+4.73606581e-01j -4.47043720e-02-1.33081634e-01j\n",
      "  -1.39787209e-01-1.29899406e-02j  5.57352730e-03+4.41285129e-03j\n",
      "  -9.74051013e-02-4.14146922e-01j -4.25447288e-01+1.77505486e-04j\n",
      "   2.31854868e-01-2.53900939e-02j  2.84634787e-02+2.31497661e-01j\n",
      "  -1.21309298e-01-9.60468773e-02j  2.57595113e-01+2.07850856e-01j\n",
      "   2.61390581e-01+2.03057097e-01j  5.68841745e-01+3.44370688e-02j\n",
      "   1.63984998e-01+5.45779958e-01j  4.37305890e-01-2.35989789e-02j\n",
      "   7.73277834e-02+4.31061210e-01j  2.64488436e-02-1.50277805e-01j\n",
      "  -1.40205736e-01+6.02105594e-02j -3.92974986e-01-3.11138724e-01j\n",
      "  -4.50016427e-01+4.22533685e-02j -6.20858684e-02-4.47711376e-01j\n",
      "  -1.04300624e-01-1.92630409e-01j -2.11417218e-01-5.73398183e-02j\n",
      "   1.85033475e-01+1.70785500e-01j  2.08670996e-01+1.40930796e-01j\n",
      "  -9.13032810e-02+2.41789282e-01j  2.14403207e-01-1.44324671e-01j\n",
      "   1.67026049e-03-5.82562960e-04j -1.83953388e-04+1.75934955e-03j\n",
      "  -9.86544520e-02-1.87056360e-02j -4.08337585e-02-9.17344313e-02j\n",
      "  -4.51244014e-01-4.06197114e-01j -4.98863632e-01-3.46052499e-01j\n",
      "  -2.02574613e-01+2.32656327e-01j  1.79993226e-01-2.50535186e-01j\n",
      "   2.04776801e-01+1.62132439e-01j  2.29951018e-01+1.82064175e-01j]]\n"
     ]
    },
    {
     "name": "stderr",
     "output_type": "stream",
     "text": [
      "/Users/jaredhawkins/opt/anaconda3/lib/python3.9/site-packages/numpy/core/_asarray.py:102: ComplexWarning: Casting complex values to real discards the imaginary part\n",
      "  return array(a, dtype, copy=False, order=order)\n"
     ]
    },
    {
     "data": {
      "text/plain": [
       "[<matplotlib.lines.Line2D at 0x7f8e944d95b0>]"
      ]
     },
     "execution_count": 234,
     "metadata": {},
     "output_type": "execute_result"
    },
    {
     "data": {
      "image/png": "[encoded data removed]",
      "text/plain": [
       "<Figure size 432x288 with 1 Axes>"
      ]
     },
     "metadata": {
      "needs_background": "light"
     },
     "output_type": "display_data"
    }
   ],
   "source": [
    "original = centered[0]\n",
    "\n",
    "originalx = np.array(all_hands)[0][0::2]\n",
    "originaly = np.array(all_hands)[0][1::2]\n",
    "plt.plot(first_x, first_y, color = \"blue\", marker='.')\n",
    "\n",
    "meansx = [mean_hand.values[0::2]]\n",
    "meansy = [mean_hand.values[1::2]]\n",
    "meansarray = np.array([mean_hand.values[0:]])[0]\n",
    "\n",
    "weightvector = [0] * 144\n",
    "\n",
    "for i in range(len(original)):\n",
    "    weightvector += (original.dot(eigenvectors[i])) * eigenvectors[i]\n",
    "  \n",
    "newarray = np.array(meansarray + vectors)[0]\n",
    "newx = newarray[0::2]\n",
    "newy = newarray[1::2]\n",
    "\n",
    "print(weightvector)\n",
    "plt.plot(newx, newy, color = \"red\", marker='.')"
   ]
  },
  {
   "cell_type": "markdown",
   "id": "f8315100",
   "metadata": {},
   "source": [
    "The hand is very similar."
   ]
  }
 ],
 "metadata": {
  "kernelspec": {
   "display_name": "Python 3 (ipykernel)",
   "language": "python",
   "name": "python3"
  },
  "language_info": {
   "codemirror_mode": {
    "name": "ipython",
    "version": 3
   },
   "file_extension": ".py",
   "mimetype": "text/x-python",
   "name": "python",
   "nbconvert_exporter": "python",
   "pygments_lexer": "ipython3",
   "version": "3.9.7"
  }
 },
 "nbformat": 4,
 "nbformat_minor": 5
}
