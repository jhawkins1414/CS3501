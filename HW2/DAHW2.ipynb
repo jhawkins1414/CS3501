{
 "cells": [
  {
   "cell_type": "markdown",
   "id": "f892f698",
   "metadata": {},
   "source": [
    "Jared Hawkins - jmh7ax"
   ]
  },
  {
   "cell_type": "markdown",
   "id": "0ef732a3",
   "metadata": {},
   "source": [
    "1a. \n",
    "$\\mathcal{L}(\\theta) = \\prod_{i=1}^{N} 2αx_i exp(−αx_i^2)$ <br> \n",
    "$\\ell(\\theta) = \\sum_{i=1}^{N} [ln(p(x_i; α))] = \\sum_{i=1}^{n}[ln(2αx_i) − αx_i^2]$ <br>\n",
    "Max where (d/d$α$) $\\ell(\\theta) = 0$ <br>\n",
    "$(d/dα)\\ell(\\theta) = \\sum_{i=1}^{N}1/α - x_i^2$<br>\n",
    "$(d/dα)\\ell(\\theta) = N/α - \\sum_{i=1}^{N}x_i^2 = 0$ <br>\n",
    "$\\sum_{i=1}^{N}x_i^2 = N/α$<br>\n",
    "$α = N/\\sum_{i=1}^{N}x_i^2$\n"
   ]
  },
  {
   "cell_type": "markdown",
   "id": "81b853e9",
   "metadata": {},
   "source": [
    "1b. "
   ]
  },
  {
   "cell_type": "code",
   "execution_count": 2,
   "id": "95e25105",
   "metadata": {},
   "outputs": [],
   "source": [
    "import pandas as pd\n",
    "import matplotlib.pyplot as plt\n",
    "import seaborn as sns\n",
    "import numpy as np"
   ]
  },
  {
   "cell_type": "code",
   "execution_count": 3,
   "id": "141c5928",
   "metadata": {},
   "outputs": [],
   "source": [
    "data = pd.read_csv('traffic.csv')\n",
    "df = pd.DataFrame(data)"
   ]
  },
  {
   "cell_type": "code",
   "execution_count": 4,
   "id": "b77f0ef3",
   "metadata": {},
   "outputs": [
    {
     "name": "stdout",
     "output_type": "stream",
     "text": [
      "5.657063396653988496e-01    1.165649\n",
      "Name: 0, dtype: float64\n"
     ]
    }
   ],
   "source": [
    "n = len(df)\n",
    "index = df.index.values\n",
    "total = 0\n",
    "\n",
    "for x in index:\n",
    "   total+= df.loc[x] * df.loc[x]\n",
    "    \n",
    "    \n",
    "print(n/total)\n",
    "\n",
    "\n",
    "\n"
   ]
  },
  {
   "cell_type": "markdown",
   "id": "fc3be012",
   "metadata": {},
   "source": [
    "1b. For the traffic data, $α$ = 1.165649 using my MLE equation"
   ]
  },
  {
   "cell_type": "markdown",
   "id": "2ef2bba4",
   "metadata": {},
   "source": [
    "1c."
   ]
  },
  {
   "cell_type": "code",
   "execution_count": 5,
   "id": "558e3f1d",
   "metadata": {},
   "outputs": [
    {
     "name": "stderr",
     "output_type": "stream",
     "text": [
      "/Users/jaredhawkins/opt/anaconda3/lib/python3.9/site-packages/seaborn/distributions.py:2619: FutureWarning: `distplot` is a deprecated function and will be removed in a future version. Please adapt your code to use either `displot` (a figure-level function with similar flexibility) or `histplot` (an axes-level function for histograms).\n",
      "  warnings.warn(msg, FutureWarning)\n"
     ]
    },
    {
     "data": {
      "image/png": "[encoded data removed]",
      "text/plain": [
       "<Figure size 432x288 with 1 Axes>"
      ]
     },
     "metadata": {
      "needs_background": "light"
     },
     "output_type": "display_data"
    }
   ],
   "source": [
    "sns.distplot(df)\n",
    "plt.title(\"Density/PDF of Traffic\")\n",
    "\n",
    "plt.show()"
   ]
  },
  {
   "cell_type": "markdown",
   "id": "13ea9d95",
   "metadata": {},
   "source": [
    "2a."
   ]
  },
  {
   "cell_type": "markdown",
   "id": "bc58aa58",
   "metadata": {},
   "source": []
  },
  {
   "cell_type": "code",
   "execution_count": 6,
   "id": "c5803373",
   "metadata": {},
   "outputs": [],
   "source": [
    "from scipy.special import comb\n",
    "\n",
    "def hypergeometric(N, K, n, k):\n",
    "    total = comb(K,k) * comb((N-K), (n-k)) / comb(N,n)\n",
    "    return total"
   ]
  },
  {
   "cell_type": "code",
   "execution_count": 7,
   "id": "16ee8cad",
   "metadata": {},
   "outputs": [
    {
     "name": "stdout",
     "output_type": "stream",
     "text": [
      "0.5142857142857142\n",
      "0.22857142857142856\n",
      "0.014285714285714285\n"
     ]
    }
   ],
   "source": [
    "print(hypergeometric(8,4,4,2))\n",
    "print(hypergeometric(8,4,4,3))\n",
    "print(hypergeometric(8,4,4,4))"
   ]
  },
  {
   "cell_type": "markdown",
   "id": "c362c1f8",
   "metadata": {},
   "source": [
    "2b."
   ]
  },
  {
   "cell_type": "code",
   "execution_count": 8,
   "id": "391c48ec",
   "metadata": {},
   "outputs": [
    {
     "name": "stdout",
     "output_type": "stream",
     "text": [
      "0.0005934196725858289\n"
     ]
    }
   ],
   "source": [
    "print(hypergeometric(100,10,50,10))"
   ]
  },
  {
   "cell_type": "markdown",
   "id": "f88a1fa9",
   "metadata": {},
   "source": [
    "2c."
   ]
  },
  {
   "cell_type": "code",
   "execution_count": 9,
   "id": "5160b9e9",
   "metadata": {},
   "outputs": [
    {
     "name": "stdout",
     "output_type": "stream",
     "text": [
      "0.6296667731127679\n"
     ]
    }
   ],
   "source": [
    "total = 0\n",
    "for x in range(5,11):\n",
    "    total += hypergeometric(100,10,50,x)\n",
    "print(total)"
   ]
  },
  {
   "cell_type": "markdown",
   "id": "a733c859",
   "metadata": {},
   "source": [
    "3a."
   ]
  },
  {
   "cell_type": "code",
   "execution_count": 10,
   "id": "c17550c5",
   "metadata": {},
   "outputs": [],
   "source": [
    "import pandas as pd\n",
    "import matplotlib.pyplot as plt\n",
    "import seaborn as sns\n",
    "\n",
    "df = pd.read_csv(\"cardiac.csv\")"
   ]
  },
  {
   "cell_type": "code",
   "execution_count": 11,
   "id": "082457c2",
   "metadata": {},
   "outputs": [
    {
     "name": "stdout",
     "output_type": "stream",
     "text": [
      "144 76 249 89\n"
     ]
    }
   ],
   "source": [
    "menHype = sum((df['gender']==0) & (df['hxofHT']==0))\n",
    "menNoHype = sum((df['gender']==0) & (df['hxofHT']==1))\n",
    "womenHype = sum((df['gender']==1) & (df['hxofHT']==0))\n",
    "womenNoHype = sum((df['gender']==1) & (df['hxofHT']==1))\n",
    "\n",
    "print(menHype, menNoHype, womenHype, womenNoHype)"
   ]
  },
  {
   "cell_type": "code",
   "execution_count": 12,
   "id": "b427cbb3",
   "metadata": {},
   "outputs": [
    {
     "name": "stdout",
     "output_type": "stream",
     "text": [
      "---------------  ---  -----\n",
      "gender / htofHT  HT   No HT\n",
      "Men              144  76\n",
      "Women            249  89\n",
      "---------------  ---  -----\n"
     ]
    }
   ],
   "source": [
    "from tabulate import tabulate\n",
    "table = [['gender / htofHT', 'HT', 'No HT'], ['Men', 144, 76], ['Women', 249, 89]]\n",
    "\n",
    "print(tabulate(table))"
   ]
  },
  {
   "cell_type": "markdown",
   "id": "2a712cfd",
   "metadata": {},
   "source": [
    "3b."
   ]
  },
  {
   "cell_type": "code",
   "execution_count": 19,
   "id": "c116cd9e",
   "metadata": {},
   "outputs": [
    {
     "name": "stdout",
     "output_type": "stream",
     "text": [
      "0.008846092806851051\n"
     ]
    }
   ],
   "source": [
    "n = 249+89\n",
    "K = 76+89\n",
    "k = 89\n",
    "N = 144+n+K-k\n",
    "\n",
    "print(hypergeometric(N,K,n,k))"
   ]
  },
  {
   "cell_type": "markdown",
   "id": "2d8de50f",
   "metadata": {},
   "source": [
    "3c. The null hypothesis is that the probability of men and women having hypertension is equal"
   ]
  },
  {
   "cell_type": "markdown",
   "id": "395ac685",
   "metadata": {},
   "source": [
    "3d. "
   ]
  },
  {
   "cell_type": "code",
   "execution_count": 22,
   "id": "980980f4",
   "metadata": {},
   "outputs": [
    {
     "name": "stdout",
     "output_type": "stream",
     "text": [
      "0.0009343189934158391\n"
     ]
    }
   ],
   "source": [
    "menHype = 0\n",
    "\n",
    "for i in range(26, 50, 1):\n",
    "    menHype += hypergeometric(288, 144, 50, i)\n",
    "    \n",
    "womenHype = 0\n",
    "\n",
    "for j in range(26, 50, 1):\n",
    "   womenHype += hypergeometric(338, 169, 50, j)\n",
    "     \n",
    "print(womenHype - menHype)"
   ]
  },
  {
   "cell_type": "markdown",
   "id": "d4e78d59",
   "metadata": {},
   "source": [
    "p < .05"
   ]
  },
  {
   "cell_type": "markdown",
   "id": "e33369ef",
   "metadata": {},
   "source": [
    "Reject the null hypothesis that the probability of men and women having hypertension is equal"
   ]
  }
 ],
 "metadata": {
  "kernelspec": {
   "display_name": "Python 3 (ipykernel)",
   "language": "python",
   "name": "python3"
  },
  "language_info": {
   "codemirror_mode": {
    "name": "ipython",
    "version": 3
   },
   "file_extension": ".py",
   "mimetype": "text/x-python",
   "name": "python",
   "nbconvert_exporter": "python",
   "pygments_lexer": "ipython3",
   "version": "3.9.7"
  }
 },
 "nbformat": 4,
 "nbformat_minor": 5
}
